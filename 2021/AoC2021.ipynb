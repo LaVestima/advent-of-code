{
 "cells": [
  {
   "cell_type": "code",
   "execution_count": 1,
   "metadata": {},
   "outputs": [],
   "source": [
    "import pandas as pd\n",
    "from copy import copy\n",
    "import numpy as np\n",
    "import re\n",
    "\n",
    "import seaborn as sns\n",
    "import matplotlib.pyplot as plt\n",
    "\n",
    "import scipy.ndimage as ndimage"
   ]
  },
  {
   "cell_type": "markdown",
   "metadata": {},
   "source": [
    "# Task 1"
   ]
  },
  {
   "cell_type": "code",
   "execution_count": 139,
   "metadata": {},
   "outputs": [
    {
     "name": "stdout",
     "output_type": "stream",
     "text": [
      "ans1: 1766\n",
      "ans2: 1797\n"
     ]
    }
   ],
   "source": [
    "data1 = pd.read_csv('input1.txt', header=None, sep='\\n')\n",
    "\n",
    "sum_incr = data1[0].rolling(2).apply(lambda x: x.iloc[1] > x.iloc[0]).sum().astype(int)\n",
    "sum_window_incr = data1[0].rolling(3).sum().rolling(2).apply(lambda x: x.iloc[1] > x.iloc[0]).sum().astype(int)\n",
    "\n",
    "print('ans1: ' + str(sum_incr)) # 1766\n",
    "print('ans2: ' + str(sum_window_incr)) # 1797"
   ]
  },
  {
   "cell_type": "markdown",
   "metadata": {},
   "source": [
    "# Task 2"
   ]
  },
  {
   "cell_type": "code",
   "execution_count": 671,
   "metadata": {},
   "outputs": [
    {
     "name": "stdout",
     "output_type": "stream",
     "text": [
      "ans1: 1488669\n",
      "ans2: 1176514794\n"
     ]
    }
   ],
   "source": [
    "data2 = pd.read_csv('input2.txt', header=None, sep=' ')\n",
    "\n",
    "sum_forward = data2[data2[0] == 'forward'][1].sum()\n",
    "sum_down = data2[data2[0] == 'down'][1].sum()\n",
    "sum_up = data2[data2[0] == 'up'][1].sum()\n",
    "\n",
    "aim = 0\n",
    "depth = 0\n",
    "\n",
    "for a in data2.iterrows():\n",
    "    if a[1][0] == 'forward':\n",
    "        depth += aim * a[1][1]\n",
    "    elif a[1][0] == 'down':\n",
    "        aim += a[1][1]\n",
    "    elif a[1][0] == 'up':\n",
    "        aim -= a[1][1]\n",
    "\n",
    "print('ans1: ' + str(sum_forward * (sum_down - sum_up))) # 1488669\n",
    "print('ans2: ' + str(sum_forward * depth)) # 1176514794"
   ]
  },
  {
   "cell_type": "markdown",
   "metadata": {},
   "source": [
    "# Task 3"
   ]
  },
  {
   "cell_type": "code",
   "execution_count": 131,
   "metadata": {},
   "outputs": [
    {
     "data": {
      "text/plain": [
       "10"
      ]
     },
     "execution_count": 131,
     "metadata": {},
     "output_type": "execute_result"
    }
   ],
   "source": [
    "# 0101 ^ 1111 = 1010\n",
    "5 ^ 15"
   ]
  },
  {
   "cell_type": "code",
   "execution_count": 672,
   "metadata": {},
   "outputs": [
    {
     "name": "stdout",
     "output_type": "stream",
     "text": [
      "ans1: 4191876\n",
      "ans2: 3424642\n"
     ]
    }
   ],
   "source": [
    "data3 = pd.read_csv('input3.txt', header=None, sep=' ', dtype=str)\n",
    "\n",
    "# 3.1\n",
    "gamma_most_common = ''.join(data3[0].str.split('', expand=True).iloc[:, 1:-1].apply(lambda x: x.value_counts(), axis='index').idxmax().to_numpy())\n",
    "gamma_rate = int(gamma_most_common, 2)\n",
    "\n",
    "# 3.2\n",
    "data3m1 = copy(data3[0].str.split('', expand=True).iloc[:, 1:-1])\n",
    "data3m2 = copy(data3m1)\n",
    "\n",
    "i = 0\n",
    "while data3m1.shape[0] != 1:\n",
    "    a = data3m1.iloc[:, i]\n",
    "    a_count = a.value_counts()\n",
    "    data3m1 = data3m1[a == ('1' if (a_count.shape == 2 and a_count[0] == a_count[1]) else a_count.idxmax())]\n",
    "    i += 1\n",
    "\n",
    "oxygen_rating = int(''.join(data3m1.to_numpy().flatten()), 2)\n",
    "\n",
    "i = 0\n",
    "while data3m2.shape[0] != 1:\n",
    "    a = data3m2.iloc[:, i]\n",
    "    a_count = a.value_counts()\n",
    "    data3m2 = data3m2[a == ('0' if (a_count.shape == 2 and a_count[0] == a_count[1]) else a_count.idxmin())]\n",
    "    i += 1\n",
    "\n",
    "co2_rating = int(''.join(data3m2.to_numpy().flatten()), 2)\n",
    "\n",
    "print('ans1: ' + str(gamma_rate * (gamma_rate ^ int('1' * len(gamma_most_common), 2)))) # 4191876\n",
    "print('ans2: ' + str(oxygen_rating * co2_rating)) # 3424642"
   ]
  },
  {
   "cell_type": "markdown",
   "metadata": {},
   "source": [
    "# Task 4"
   ]
  },
  {
   "cell_type": "code",
   "execution_count": 590,
   "metadata": {},
   "outputs": [
    {
     "name": "stdout",
     "output_type": "stream",
     "text": [
      "ans1: 41503\n",
      "ans2: 3178\n"
     ]
    }
   ],
   "source": [
    "data4 = pd.read_csv('input4.txt', header=None, sep=\"\\n\", dtype=str)\n",
    "data4h, data4d = data4.loc[0, :], data4.loc[1:, :]\n",
    "\n",
    "data4d = data4d[0].str.strip().str.split('\\s+', expand=True)\n",
    "data4d1, data4d2 = copy(data4d), copy(data4d)\n",
    "# display(data4d)\n",
    "\n",
    "small_index = np.array_split(data4d.index, 500//5)\n",
    "\n",
    "boards_won = []\n",
    "\n",
    "res1, res2 = 0, 0\n",
    "\n",
    "for num in data4h[0].split(','):\n",
    "    data4d1 = data4d1.replace(num, np.nan)\n",
    "\n",
    "    for i in range(100):\n",
    "        if data4d1.loc[small_index[i], :].dropna(how='all', axis=0).dropna(how='all', axis=1).shape != (5,5):\n",
    "            res1 = int(data4d1.loc[small_index[i], :].astype(float).sum().sum() * int(num))\n",
    "            break\n",
    "    \n",
    "    if res1 != 0:\n",
    "        break\n",
    "\n",
    "for num in data4h[0].split(','):\n",
    "    data4d2 = data4d2.replace(num, np.nan)\n",
    "    \n",
    "    for i in range(100):\n",
    "        if i not in boards_won and data4d2.loc[small_index[i], :].dropna(how='all', axis=0).dropna(how='all', axis=1).shape != (5,5):\n",
    "            boards_won.append(i)\n",
    "            \n",
    "            if len(boards_won) == 100:\n",
    "                res2 = int(data4d2.loc[small_index[i], :].astype(float).sum().sum() * int(num))\n",
    "                break\n",
    "    \n",
    "    if res2 != 0:\n",
    "        break\n",
    "        \n",
    "print('ans1: ' + str(res1)) # 41503\n",
    "print('ans2: ' + str(res2)) # 3178"
   ]
  },
  {
   "cell_type": "markdown",
   "metadata": {},
   "source": [
    "# Task 5"
   ]
  },
  {
   "cell_type": "code",
   "execution_count": 591,
   "metadata": {},
   "outputs": [
    {
     "name": "stdout",
     "output_type": "stream",
     "text": [
      "ans1: 7085\n",
      "ans2: 20271\n"
     ]
    }
   ],
   "source": [
    "data5 = pd.read_csv('input5.txt', header=None, sep=\"\\n\", dtype=str)\n",
    "data5m = data5[0].str.split(r'[,(\\-> )]', expand=True).drop(columns=[2, 3, 4]).astype(int)\n",
    "size = data5m.max().max().astype(int)\n",
    "grid1 = pd.DataFrame(np.zeros((size, size))).astype(int)\n",
    "grid2 = pd.DataFrame(np.zeros((size, size))).astype(int)\n",
    "# display(grid2)\n",
    "\n",
    "for a in data5m.iterrows():\n",
    "    x1 = a[1][0]\n",
    "    x2 = a[1][5]\n",
    "    y1 = a[1][1]\n",
    "    y2 = a[1][6]\n",
    "    \n",
    "    if x1 == x2 or y1 == y2:\n",
    "        x1, x2 = min(x1, x2), max(x1, x2)\n",
    "        y1, y2 = min(y1, y2), max(y1, y2)\n",
    "        \n",
    "        grid1.loc[x1-1:x2-1, y1-1:y2-1] += 1\n",
    "        grid2.loc[x1-1:x2-1, y1-1:y2-1] += 1\n",
    "    else:\n",
    "        if x2 > x1:\n",
    "            xr1, xr2, xd = x1, x2+1, 1\n",
    "        else:\n",
    "            xr1, xr2, xd = x1, x2-1, -1\n",
    "            \n",
    "        if y2 > y1:\n",
    "            yr1, yr2, yd = y1, y2+1, 1\n",
    "        else:\n",
    "            yr1, yr2, yd = y1, y2-1, -1\n",
    "        \n",
    "        for a, b in zip(range(xr1, xr2, xd), range(yr1, yr2, yd)):\n",
    "            grid2.loc[a-1, b-1] += 1\n",
    "        \n",
    "print('ans1: ' + str(grid1[grid1 > 1].count().sum())) # 7085\n",
    "print('ans2: ' + str(grid2[grid2 > 1].count().sum())) # 20271"
   ]
  },
  {
   "cell_type": "code",
   "execution_count": null,
   "metadata": {},
   "outputs": [],
   "source": []
  },
  {
   "cell_type": "markdown",
   "metadata": {},
   "source": [
    "# Task 6"
   ]
  },
  {
   "cell_type": "code",
   "execution_count": 592,
   "metadata": {},
   "outputs": [
    {
     "name": "stdout",
     "output_type": "stream",
     "text": [
      "377263\n",
      "ans1: 377263\n"
     ]
    }
   ],
   "source": [
    "data6 = pd.read_csv('input6.txt', header=None, sep=\"\\n\", dtype=str)\n",
    "data6m = list(map(int, data6.loc[0, 0].split(',')))\n",
    "# print(data6m,)\n",
    "\n",
    "for day in range(80):\n",
    "# for day in range(256):\n",
    "    new_count = data6m.count(0)\n",
    "    \n",
    "    data6m = list(map(lambda x: x-1 if x != 0 else 6, data6m))\n",
    "    if new_count > 0:\n",
    "        data6m = data6m + ([8]*new_count)\n",
    "\n",
    "# print(data6m,)\n",
    "print(len(data6m))\n",
    "print('ans1: ' + str(len(data6m))) # 377263"
   ]
  },
  {
   "cell_type": "code",
   "execution_count": null,
   "metadata": {},
   "outputs": [],
   "source": []
  },
  {
   "cell_type": "markdown",
   "metadata": {},
   "source": [
    "# Task 7"
   ]
  },
  {
   "cell_type": "code",
   "execution_count": 804,
   "metadata": {},
   "outputs": [
    {
     "name": "stdout",
     "output_type": "stream",
     "text": [
      "ans1: 352331\n",
      "ans2: 99266250\n"
     ]
    }
   ],
   "source": [
    "with open(\"input7.txt\", \"r\") as file:\n",
    "    data7 = file.readline().strip()\n",
    "data7m = list(map(int, data7.split(',')))\n",
    "# print(data7m,)\n",
    "\n",
    "fuels_used1, fuels_used2 = [], []\n",
    "\n",
    "for a in range(2,max(data7m)):\n",
    "    fuels_used1.append(sum(list(map(lambda x: abs(x-a), data7m))))\n",
    "    fuels_used2.append(sum(list(map(lambda x: (abs(x-a)**2 + abs(x-a))//2, data7m))))\n",
    "\n",
    "print('ans1: ' + str(min(fuels_used1))) # 352331\n",
    "print('ans2: ' + str(min(fuels_used2))) # 99266250"
   ]
  },
  {
   "cell_type": "code",
   "execution_count": null,
   "metadata": {},
   "outputs": [],
   "source": []
  },
  {
   "cell_type": "markdown",
   "metadata": {},
   "source": [
    "# Task 8"
   ]
  },
  {
   "cell_type": "code",
   "execution_count": 1061,
   "metadata": {},
   "outputs": [
    {
     "data": {
      "text/plain": [
       "'a'"
      ]
     },
     "execution_count": 1061,
     "metadata": {},
     "output_type": "execute_result"
    }
   ],
   "source": [
    "a = ['a', 'e', 'g']\n",
    "b = ['e', 'g']\n",
    "list(set(a) - set(b))[0]"
   ]
  },
  {
   "cell_type": "code",
   "execution_count": 1062,
   "metadata": {},
   "outputs": [
    {
     "name": "stdout",
     "output_type": "stream",
     "text": [
      "ans1: 445\n",
      "ans1: 1043101\n"
     ]
    }
   ],
   "source": [
    "data8 = pd.read_csv('input8.txt', header=None, sep=\"\\n\", dtype=str)\n",
    "data8m = data8[0].str.split('|', expand=True)\n",
    "data8mm = data8m[1].apply(lambda x: x.strip()).str.split(' ', expand=True).applymap(len)\n",
    "# display(data8)\n",
    "data8m2 = data8[0].str.replace('\\|', '').str.split(expand=True).applymap(lambda x: ''.join(sorted(x)))\n",
    "\n",
    "dis7map = {\n",
    "    'ABCEFG': 0,\n",
    "    'CF': 1,\n",
    "    'ACDEG': 2,\n",
    "    'ACDFG': 3,\n",
    "    'BCDF': 4,\n",
    "    'ABDFG': 5,\n",
    "    'ABDEFG': 6,\n",
    "    'ACF': 7,\n",
    "    'ABCDEFG': 8,\n",
    "    'ABCDFG': 9,\n",
    "}\n",
    "\n",
    "out_sum = 0\n",
    "\n",
    "for a in data8m2.iterrows():\n",
    "    b = a[1]\n",
    "    map7 = {}\n",
    "    \n",
    "    map7['C'] = list(b[b.map(lambda x: len(x) == 2)].iloc[0])\n",
    "    map7['F'] = copy(map7['C'])\n",
    "    map7['A'] = list(set(list(b[b.map(lambda x: len(x) == 3)].iloc[0])) - set(map7['C']))[0]\n",
    "    map7['B'] = list(set(list(b[b.map(lambda x: len(x) == 4)].iloc[0])) - set(map7['C']))\n",
    "    map7['D'] = copy(map7['B'])\n",
    "    map7['G'] = list(set(b[b.str.match(r''+('.*' + ('.*'.join(sorted([*map7['A'], *map7['B'], *map7['C']]))) + '.*')) & b.map(lambda x: len(x) == 6)].iloc[0]) - set(sorted([*map7['A'], *map7['B'], *map7['C']])))[0]\n",
    "    map7['E'] = list(set(b[b.map(lambda x: len(x) == 7)].iloc[0]) - set(''.join(sorted([*map7['A'], *map7['B'], *map7['C'], *map7['G']]))))[0]\n",
    "    map7['F'] = list(set(b[b.str.match(r''+('.*' + ('.*'.join(sorted([*map7['A'], *map7['B'], *map7['E'], *map7['G']]))) + '.*')) & b.map(lambda x: len(x) == 6)].iloc[0]) - set(''.join(sorted([*map7['A'], *map7['B'], *map7['E'], *map7['G']]))))[0]\n",
    "    map7['C'] = list(set(map7['C']) - set(map7['F']))[0]\n",
    "    map7['D'] = list(set(b[b.str.match(r''+('.*' + ('.*'.join(sorted([*map7['A'], *map7['C'], *map7['E'], *map7['G']]))) + '.*')) & b.map(lambda x: len(x) == 5)].iloc[0]) - set(''.join(sorted([*map7['A'], *map7['C'], *map7['E'], *map7['G']]))))[0]\n",
    "    map7['B'] = list(set(map7['B']) - set(map7['D']))[0]\n",
    "    \n",
    "    map7inv = {v: k for k, v in map7.items()}\n",
    "    out_num = b[-4:].apply(lambda x: dis7map[''.join(sorted(list(map(lambda y: map7inv[y], x))))])\n",
    "    out = int(''.join(list(out_num.astype(str))))\n",
    "    out_sum += out\n",
    "\n",
    "print('ans1: ' + str(data8mm[(data8mm == 2) | (data8mm == 3) | (data8mm == 4) | (data8mm == 7)].count().sum())) # 445\n",
    "print('ans1: ' + str(out_sum)) # 1043101"
   ]
  },
  {
   "cell_type": "raw",
   "metadata": {},
   "source": [
    "gea agfcbe egcbfd aecb cegbf cafgde fgeba ea gabdf begfdca | bcfeg ea fbdga fbgcdae\n",
    " 7                  4                      1          8             1\n",
    "                                                           | bcefg(5) ae(1) abdfg(2) 8\n",
    "\n",
    "A:        g\n",
    "B: b|c => c\n",
    "C: a|e => a\n",
    "D: b|c => b\n",
    "E:        d\n",
    "F: a|e => e\n",
    "G:        f\n",
    "\n",
    "abcefg(9), bcdefg(6), acdefg(0) => ?? 0, 6, 9\n",
    "bcefg(5), abefg(3), abdfg(2): ?? 2, 3, 5"
   ]
  },
  {
   "cell_type": "code",
   "execution_count": null,
   "metadata": {},
   "outputs": [],
   "source": []
  },
  {
   "cell_type": "code",
   "execution_count": null,
   "metadata": {},
   "outputs": [],
   "source": []
  },
  {
   "cell_type": "markdown",
   "metadata": {},
   "source": [
    "# Task 9"
   ]
  },
  {
   "cell_type": "code",
   "execution_count": 768,
   "metadata": {},
   "outputs": [
    {
     "name": "stdout",
     "output_type": "stream",
     "text": [
      "ans1: 486\n",
      "ans2: 1059300\n"
     ]
    }
   ],
   "source": [
    "data9 = pd.read_csv('input9.txt', header=None, sep=\"\\n\", dtype=str)\n",
    "data9m = data9[0].str.split('', expand=True).drop(columns=[0,101]).astype(int)\n",
    "data9m.columns = list(range(100))\n",
    "# display(data9m)\n",
    "\n",
    "def low_points_risks(values):\n",
    "    curr, others = values[2], values[[0,1,3,4]]\n",
    "    \n",
    "    return curr+1 if curr < others[~np.isnan(others)].min() else 0\n",
    "\n",
    "footprint = np.array([\n",
    "    [0,1,0],\n",
    "    [1,1,1],\n",
    "    [0,1,0]\n",
    "])\n",
    "\n",
    "data9m1 = ndimage.generic_filter(data9m, low_points_risks, footprint=footprint, mode='constant', cval=np.nan)\n",
    "data9lab, _ = ndimage.label(data9m.applymap(lambda x: x < 9))\n",
    "uniques, counts = np.unique(data9lab, return_counts=True)\n",
    "res2 = pd.DataFrame(counts, index=uniques).drop(index=[0]).sort_values(by=0, ascending=False).head(3)[0].prod()\n",
    "\n",
    "print('ans1: ' + str(data9m1.sum())) # 486\n",
    "print('ans2: ' + str(res2)) # 1059300"
   ]
  },
  {
   "cell_type": "code",
   "execution_count": 808,
   "metadata": {},
   "outputs": [],
   "source": [
    "# f, ax = plt.subplots(figsize=(24, 20))\n",
    "# data9mm = data9m[data9m == 9]\n",
    "# sns.heatmap(data9mm, cmap=\"YlGnBu\");"
   ]
  },
  {
   "cell_type": "code",
   "execution_count": null,
   "metadata": {},
   "outputs": [],
   "source": []
  },
  {
   "cell_type": "markdown",
   "metadata": {},
   "source": [
    "# Day 10"
   ]
  },
  {
   "cell_type": "code",
   "execution_count": 666,
   "metadata": {},
   "outputs": [
    {
     "name": "stdout",
     "output_type": "stream",
     "text": [
      "ans1: 318099\n",
      "ans2: 2389738699\n"
     ]
    }
   ],
   "source": [
    "data10 = pd.read_csv('input10.txt', header=None, sep=\"\\n\", dtype=str)\n",
    "\n",
    "tag_map1 = {\n",
    "    ')': 3,\n",
    "    ']': 57,\n",
    "    '}': 1197,\n",
    "    '>': 25137,\n",
    "    '': 0\n",
    "}\n",
    "tag_map2 = {\n",
    "    ')': 1,\n",
    "    ']': 2,\n",
    "    '}': 3,\n",
    "    '>': 4,\n",
    "}\n",
    "\n",
    "def remove_closed_tags(inp):\n",
    "    while True:\n",
    "        outp = re.sub(r'\\(\\)|\\[\\]|\\{\\}|\\<\\>', '', inp)\n",
    "        if outp == inp:\n",
    "            return outp\n",
    "        inp = outp\n",
    "\n",
    "def score2(inp):\n",
    "    score = 0\n",
    "    for a in inp:\n",
    "        score *= 5\n",
    "        score += tag_map2[a]\n",
    "    return score\n",
    "\n",
    "data10m = data10.applymap(remove_closed_tags).applymap(lambda x: (re.findall(r'\\)|\\]|\\}|\\>', x) or [''])[0])\n",
    "res1 = data10m.applymap(lambda x: tag_map1[x])[0].sum()\n",
    "res2 = data10.applymap(remove_closed_tags)[data10m[0] == ''].applymap(lambda x: x[::-1].replace('(', ')').replace('[', ']').replace('{', '}').replace('<', '>')).applymap(score2)[0].median()\n",
    "\n",
    "print('ans1: ' + str(res1)) # 318099\n",
    "print('ans2: ' + str(int(res2))) # 2389738699"
   ]
  },
  {
   "cell_type": "code",
   "execution_count": null,
   "metadata": {},
   "outputs": [],
   "source": []
  },
  {
   "cell_type": "markdown",
   "metadata": {},
   "source": [
    "# Task 11"
   ]
  },
  {
   "cell_type": "code",
   "execution_count": 806,
   "metadata": {},
   "outputs": [
    {
     "data": {
      "text/plain": [
       "array([[4, 1, 1, 2, 2, 5, 6, 3, 7, 2],\n",
       "       [3, 1, 4, 3, 2, 5, 3, 7, 1, 2],\n",
       "       [4, 5, 1, 6, 8, 4, 8, 6, 3, 1],\n",
       "       [3, 7, 8, 3, 4, 7, 7, 1, 3, 7],\n",
       "       [3, 7, 4, 6, 7, 2, 3, 5, 8, 2],\n",
       "       [5, 8, 6, 1, 3, 5, 8, 8, 8, 4],\n",
       "       [4, 8, 4, 3, 3, 5, 1, 7, 7, 4],\n",
       "       [2, 3, 1, 6, 4, 4, 7, 6, 2, 1],\n",
       "       [6, 6, 4, 3, 8, 1, 7, 7, 4, 5],\n",
       "       [6, 3, 6, 6, 8, 1, 5, 8, 6, 8]])"
      ]
     },
     "metadata": {},
     "output_type": "display_data"
    }
   ],
   "source": [
    "data11 = pd.read_csv('input11.txt', header=None, sep=\"\\n\", dtype=str)\n",
    "data11m = data11[0].str.split('', expand=True).drop(columns=[0,11]).astype(int).to_numpy()\n",
    "display(data11m)\n",
    "\n",
    "def test_func(values):\n",
    "    curr, others = values[2], values[[0,1,3,4]]\n",
    "#     print('============', values)\n",
    "    return curr\n",
    "\n",
    "footprint = np.array([\n",
    "    [1,1,1],\n",
    "    [1,0,1],\n",
    "    [1,1,1]\n",
    "])\n",
    "\n",
    "for i in range(100):\n",
    "#     print(i)\n",
    "    ndimage.generic_filter(data11m, test_func, footprint=footprint, mode='constant', cval=np.nan)"
   ]
  },
  {
   "cell_type": "code",
   "execution_count": null,
   "metadata": {},
   "outputs": [],
   "source": []
  },
  {
   "cell_type": "markdown",
   "metadata": {},
   "source": [
    "# Task 12"
   ]
  },
  {
   "cell_type": "code",
   "execution_count": 1066,
   "metadata": {},
   "outputs": [],
   "source": [
    "import networkx as nx"
   ]
  },
  {
   "cell_type": "code",
   "execution_count": 1087,
   "metadata": {},
   "outputs": [
    {
     "data": {
      "image/png": "[encoded data removed]",
      "text/plain": [
       "<Figure size 1008x720 with 1 Axes>"
      ]
     },
     "metadata": {},
     "output_type": "display_data"
    }
   ],
   "source": [
    "data12 = pd.read_csv('input12.txt', header=None, sep=\"\\n\", dtype=str)\n",
    "data12m = data12[0].str.split('-', expand=True)\n",
    "\n",
    "G = nx.Graph()\n",
    "data12m.apply(lambda x: G.add_edge(x[0], x[1]), axis=1)\n",
    "\n",
    "f, ax = plt.subplots(figsize=(14, 10))\n",
    "nx.draw(G, with_labels=True, font_weight='bold', node_color='lightgrey', font_color='k')"
   ]
  },
  {
   "cell_type": "code",
   "execution_count": null,
   "metadata": {},
   "outputs": [],
   "source": []
  },
  {
   "cell_type": "markdown",
   "metadata": {},
   "source": [
    "# Task 13"
   ]
  },
  {
   "cell_type": "code",
   "execution_count": 121,
   "metadata": {},
   "outputs": [
    {
     "name": "stdout",
     "output_type": "stream",
     "text": [
      "ans1: 661\n",
      "ans2: \n"
     ]
    },
    {
     "data": {
      "image/png": "[encoded data removed]",
      "text/plain": [
       "<Figure size 1728x288 with 2 Axes>"
      ]
     },
     "metadata": {
      "needs_background": "light"
     },
     "output_type": "display_data"
    }
   ],
   "source": [
    "data13 = pd.read_csv('input13.txt', header=None, sep=\"\\n\", dtype=str)\n",
    "data13d, data13f = data13[~data13[0].str.startswith('fold')], data13[data13[0].str.startswith('fold')]\n",
    "data13d = data13d[0].str.split(',', expand=True).astype(int)\n",
    "data13f = data13f[0].str.replace('fold along ', '').str.split('=', expand=True).reset_index(drop=True)\n",
    "# display(data13d)\n",
    "# display(data13f)\n",
    "\n",
    "grid_size = data13f[data13f[0] == 'x'][1].astype(int).max()*2+1, data13f[data13f[0] == 'y'][1].astype(int).max()*2+1\n",
    "grid = pd.DataFrame(np.zeros(grid_size)).T\n",
    "\n",
    "for a in data13d.iterrows():\n",
    "    grid.loc[a[1][1], a[1][0]] = 1\n",
    "\n",
    "new_grid = copy(grid)\n",
    "    \n",
    "for fold in data13f.iterrows():\n",
    "    if fold[1][0] == 'x':\n",
    "        first_half = new_grid.loc[:, :int(fold[1][1])-1]\n",
    "        second_half_rev = new_grid.loc[:, :int(fold[1][1])+1:-1].set_axis(first_half.columns, axis=1)\n",
    "        new_grid = first_half + second_half_rev\n",
    "    else:\n",
    "        first_half = new_grid.loc[:int(fold[1][1])-1, :]\n",
    "        second_half_rev = new_grid.loc[:int(fold[1][1])+1:-1, :].reset_index(drop=True)\n",
    "        new_grid = first_half + second_half_rev\n",
    "    \n",
    "    if fold[0] == 0:\n",
    "        res1 = new_grid.astype(bool).sum().sum()\n",
    "    \n",
    "    \n",
    "print('ans1: ' + str(res1)) # 661\n",
    "print('ans2: ') # PFKLKCFP\n",
    "f, ax = plt.subplots(figsize=(24, 4))\n",
    "sns.heatmap(new_grid.astype(bool), cmap=\"YlGnBu\");"
   ]
  },
  {
   "cell_type": "code",
   "execution_count": null,
   "metadata": {},
   "outputs": [],
   "source": []
  },
  {
   "cell_type": "markdown",
   "metadata": {},
   "source": [
    "# Task 14"
   ]
  },
  {
   "cell_type": "code",
   "execution_count": 65,
   "metadata": {},
   "outputs": [],
   "source": [
    "import itertools"
   ]
  },
  {
   "cell_type": "code",
   "execution_count": 188,
   "metadata": {},
   "outputs": [
    {
     "data": {
      "text/plain": [
       "'PPFCHPFNCKOKOSBVCFPP'"
      ]
     },
     "metadata": {},
     "output_type": "display_data"
    },
    {
     "data": {
      "text/plain": [
       "'PPFCHPFNCKOKOSBVCFPP'"
      ]
     },
     "metadata": {},
     "output_type": "display_data"
    },
    {
     "data": {
      "text/plain": [
       "'CVP'"
      ]
     },
     "metadata": {},
     "output_type": "display_data"
    },
    {
     "data": {
      "text/plain": [
       "'POPHF'"
      ]
     },
     "metadata": {},
     "output_type": "display_data"
    },
    {
     "data": {
      "text/plain": [
       "'FNCKH'"
      ]
     },
     "metadata": {},
     "output_type": "display_data"
    },
    {
     "name": "stdout",
     "output_type": "stream",
     "text": [
      "0\n",
      "1\n",
      "2\n",
      "3\n",
      "4\n",
      "5\n",
      "6\n",
      "7\n",
      "8\n",
      "9\n",
      "ans1: 2027\n"
     ]
    }
   ],
   "source": [
    "data14 = pd.read_csv('input14.txt', header=None, sep=\"\\n\", dtype=str)\n",
    "data14t = data14.loc[0, 0]\n",
    "data14p = data14.loc[1:, 0].str.split(' -> ', expand=True)\n",
    "# display(data14t)\n",
    "data14tu = pd.Series(list(data14t)).unique()\n",
    "data14tup = pd.DataFrame([[a[0]+a[1]+a[2]] for a in list(itertools.product(data14tu, data14tu, data14tu))])\n",
    "# display(data14tup)\n",
    "\n",
    "# display(data14p.apply(lambda x: x[0][0]+x[1]+x[0][1], axis=1))\n",
    "#repl = data14p.apply(lambda x: [x[0], x[0][0]+x[1]+x[0][1]], axis=1, result_type='expand').set_index(0).to_dict()[1]\n",
    "repl = data14p.apply(lambda x: [x[0], x[0][0]+x[1]+x[0][1]], axis=1, result_type='expand')#.set_index(0).to_dict()[1]\n",
    "repl_dict = repl.set_index(0).to_dict()[1]\n",
    "# display(repl_dict)\n",
    "# repl2 = repl.apply(lambda x: [x[1], repl_dict[x[1][:2]]+repl_dict[x[1][1:]][1:]], axis=1, result_type='expand')\n",
    "# display(repl2)\n",
    "\n",
    "repl3 = data14tup.apply(lambda x: [x[0], repl_dict[x[0][:2]]+repl_dict[x[0][1:]][1:]], axis=1, result_type='expand')\n",
    "repl3_dict = repl3.set_index(0).to_dict()[1]\n",
    "# data14tup = data14tup.apply(lambda x: x[:2])\n",
    "# display(repl3)\n",
    "# display(repl3_dict)\n",
    "\n",
    "new_template = copy(data14t)\n",
    "new_template3 = copy(new_template)\n",
    "display(new_template)\n",
    "display(new_template3)\n",
    "\n",
    "display(repl_dict['CP'])\n",
    "display(repl3_dict['PPF'], repl3_dict['FCH'])\n",
    "\n",
    "for i in range(10):\n",
    "#     display(new_template)\n",
    "    print(i, )\n",
    "#     pairs = [data14t[k]+data14t[k+1] for k, x in enumerate(data14t[:-1])]\n",
    "#     display(pairs)\n",
    "\n",
    "#     display(new_template3)\n",
    "    new_template = ''.join([repl_dict[new_template[k]+new_template[k+1]][:-1] for k, x in enumerate(new_template[:-1])])+new_template[-1]\n",
    "    new_template3 = ''.join([\n",
    "        (repl3_dict[new_template3[k]+new_template3[k+1]+new_template3[k+2]][:-1] if k%2==0 else '') for k, x in enumerate(new_template3[:-2])\n",
    "    ])# + repl3_dict[new_template3[-3:]]\n",
    "#     display(new_template)\n",
    "#     display(new_template3)\n",
    "#     new_pairs = list(map(lambda x: x+'2', pairs))\n",
    "#     display(new_pairs)\n",
    "\n",
    "# display(new_template3)\n",
    "counts = pd.Series(list(new_template)).value_counts()\n",
    "# print(counts.max() - counts.min())\n",
    "\n",
    "print('ans1: ' + str(counts.max() - counts.min())) # 2027"
   ]
  },
  {
   "cell_type": "code",
   "execution_count": null,
   "metadata": {},
   "outputs": [],
   "source": []
  },
  {
   "cell_type": "markdown",
   "metadata": {},
   "source": [
    "# Task 20"
   ]
  },
  {
   "cell_type": "code",
   "execution_count": 119,
   "metadata": {},
   "outputs": [
    {
     "name": "stdout",
     "output_type": "stream",
     "text": [
      "ans1: 5301\n",
      "ans2: 19492\n"
     ]
    }
   ],
   "source": [
    "data20 = pd.read_csv('input20.txt', header=None, sep=\"\\n\", dtype=str)\n",
    "data20a = pd.DataFrame([data20.loc[0, 0]])[0].str.split('', expand=True).drop(columns=[0,513]).replace({'#': 1, '.': 0})\n",
    "data20i = data20.loc[1:, 0].str.split('', expand=True).drop(columns=[0,101]).replace({'#': 1, '.': 0})\n",
    "\n",
    "padding = iterations = 50\n",
    "data20i.columns = range(padding, 100+padding)\n",
    "data20i.index = range(padding, 100+padding)\n",
    "data20i[[*range(padding), *range(100+padding, 100+2*padding)]] = 0\n",
    "data20i = data20i.append(pd.DataFrame(0, index=[*range(padding), *range(100+padding, 100+2*padding)], columns=data20i.columns))\n",
    "data20i = data20i.reindex(sorted(data20i.columns), axis=1)\n",
    "data20i = data20i.reindex(sorted(data20i.index), axis=0)\n",
    "\n",
    "def to_index(values):\n",
    "    return data20a.loc[0, int(''.join(map(str, map(int, values))), 2)+1]\n",
    "\n",
    "footprint = np.array([\n",
    "    [1,1,1],\n",
    "    [1,1,1],\n",
    "    [1,1,1]\n",
    "])\n",
    "\n",
    "out = copy(data20i)\n",
    "\n",
    "for i in range(iterations):\n",
    "    out = pd.DataFrame(ndimage.generic_filter(out, to_index, footprint=footprint, mode='constant', cval=i%2))\n",
    "#     display(out)\n",
    "    if i == 1:\n",
    "        res1 = out.sum().sum()\n",
    "\n",
    "#     f, ax = plt.subplots(figsize=(16, 14))\n",
    "#     sns.heatmap(out.astype(bool), cmap=\"YlGnBu\");\n",
    "\n",
    "print('ans1: ' + str(res1)) # 5301\n",
    "print('ans2: ' + str(out.sum().sum())) # 19492"
   ]
  }
 ],
 "metadata": {
  "kernelspec": {
   "display_name": "Python 3",
   "language": "python",
   "name": "python3"
  },
  "language_info": {
   "codemirror_mode": {
    "name": "ipython",
    "version": 3
   },
   "file_extension": ".py",
   "mimetype": "text/x-python",
   "name": "python",
   "nbconvert_exporter": "python",
   "pygments_lexer": "ipython3",
   "version": "3.8.5"
  }
 },
 "nbformat": 4,
 "nbformat_minor": 4
}
